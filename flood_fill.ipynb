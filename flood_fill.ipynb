{
 "cells": [
  {
   "cell_type": "markdown",
   "metadata": {},
   "source": [
    "## Resources\n",
    "https://stackoverflow.com/questions/8863810/python-find-similar-colors-best-way <br>\n",
    "https://lodev.org/cgtutor/floodfill.html <br>\n",
    "https://en.wikipedia.org/wiki/Flood_fill#Span_Filling"
   ]
  },
  {
   "cell_type": "code",
   "execution_count": 2,
   "metadata": {},
   "outputs": [],
   "source": [
    "import matplotlib.pyplot as plt\n",
    "import numpy as np"
   ]
  },
  {
   "cell_type": "code",
   "execution_count": 3,
   "metadata": {},
   "outputs": [],
   "source": [
    "def floodfill_scanline(image:list, y:float, x:float, new_color:list, old_color:list, tolerance:float):\n",
    "    \"\"\"[Flood fill using recursive scanline method]\n",
    "\n",
    "    Args:\n",
    "        image (list): [Image data in Numpy array]\n",
    "        y (float): [Y-Coordinate of the starting point]\n",
    "        x (float): [X-Coordinate of the starting point]\n",
    "        new_color (list): [Color of the new color in RGB format]\n",
    "        old_color (list): [Color of the old color in RGB format]\n",
    "        tolerance (float): [Level of tolerance between 0-3; 0 being the same color]\n",
    "    \"\"\"\n",
    "    if (np.array_equal(image[y,x],new_color)):\n",
    "        return\n",
    "    if (old_color is None):\n",
    "        old_color = image[y,x].copy()\n",
    "    if (y < 0):\n",
    "        return\n",
    "\n",
    "    # Draw from origin to the right\n",
    "    x1 = x\n",
    "    while ((not np.array_equal(image[y,x1],new_color)) and (color_distance(old_color[0:3],image[y,x1][0:3]) <= tolerance)):\n",
    "        image[y][x1] = new_color\n",
    "        x1 += 1\n",
    "        if (x1 == image.shape[0]):\n",
    "            break\n",
    "\n",
    "    # Draw from origin to the left\n",
    "    x1 = x-1\n",
    "    while ((x1 >= 0) and (color_distance(old_color[0:3],image[y,x1][0:3]) <= tolerance)):\n",
    "        if ((not np.array_equal(image[y,x1-1],new_color) or (x1 == 0))):\n",
    "            image[y][x1] = new_color\n",
    "            x1 -= 1\n",
    "    \n",
    "    # Check above recursively\n",
    "    x1 = x\n",
    "    while((x1 < image.shape[0]) and np.array_equal(image[y,x1],new_color)):\n",
    "        if((y >= 0) and (color_distance(old_color[0:3],image[y-1,x1][0:3]) <= tolerance)):\n",
    "            floodfill_scanline(image, y-1, x1, new_color, old_color, tolerance)\n",
    "        x1 += 1\n",
    "    x1 = x - 1\n",
    "    while((x1 >= 0) and np.array_equal(image[y,x1],new_color)):\n",
    "        if((y >= 0) and (color_distance(old_color[0:3],image[y-1,x1][0:3]) <= tolerance)):\n",
    "            floodfill_scanline(image, y-1, x1, new_color, old_color, tolerance)\n",
    "        x1 -= 1\n",
    "    \n",
    "    # Check below recursively\n",
    "    x1 = x\n",
    "    while((x1 < image.shape[0]) and np.array_equal(image[y,x1],new_color)):\n",
    "        if((y < image.shape[1]-1) and (color_distance(old_color[0:3],image[y+1,x1][0:3]) <= tolerance)):\n",
    "            floodfill_scanline(image, y+1, x1, new_color, old_color, tolerance)\n",
    "        x1 += 1\n",
    "    x1 = x - 1\n",
    "    while((x1 >= 0) and np.array_equal(image[y,x1],new_color)):\n",
    "        if((y < image.shape[1]-1) and (color_distance(old_color[0:3],image[y+1,x1][0:3]) <= tolerance)):\n",
    "            floodfill_scanline(image, y+1, x1, new_color, old_color, tolerance)\n",
    "        x1 -= 1"
   ]
  },
  {
   "cell_type": "code",
   "execution_count": 4,
   "metadata": {},
   "outputs": [],
   "source": [
    "def color_distance(rgb1:list,rgb2:list):\n",
    "    \"\"\"[Calculate color(rgb) distance between 2 colors return value between 0-3, where 0 being the same color]\n",
    "\n",
    "    Args:\n",
    "        rgb1 (list): [RGB color]\n",
    "        rgb2 (list): [RGB color]\n",
    "\n",
    "    Returns:\n",
    "        [type]: [description]\n",
    "        \n",
    "    Credits:  [\"Developer\"] https://stackoverflow.com/questions/8863810/python-find-similar-colors-best-way\n",
    "    \"\"\"\n",
    "\n",
    "    rm = 0.5*(rgb1[0]+rgb2[0])\n",
    "    d = sum((2+rm,4,3-rm)*(rgb1-rgb2)**2)**0.5\n",
    "    return d"
   ]
  },
  {
   "cell_type": "code",
   "execution_count": 5,
   "metadata": {},
   "outputs": [
    {
     "data": {
      "text/plain": [
       "<matplotlib.image.AxesImage at 0x266bae46d60>"
      ]
     },
     "execution_count": 5,
     "metadata": {},
     "output_type": "execute_result"
    },
    {
     "data": {
      "image/png": "[encoded data removed]",
      "text/plain": [
       "<Figure size 432x288 with 1 Axes>"
      ]
     },
     "metadata": {
      "needs_background": "light"
     },
     "output_type": "display_data"
    },
    {
     "data": {
      "image/png": "[encoded data removed]",
      "text/plain": [
       "<Figure size 432x288 with 1 Axes>"
      ]
     },
     "metadata": {
      "needs_background": "light"
     },
     "output_type": "display_data"
    }
   ],
   "source": [
    "circle1 = plt.imread('small_circle.png')\n",
    "plt.imshow(circle1)\n",
    "plt.figure()\n",
    "\n",
    "floodfill_scanline(circle1, 15, 15, np.array([0,1,0,1]).astype('float32'), None, 0)\n",
    "plt.imshow(circle1)"
   ]
  },
  {
   "cell_type": "code",
   "execution_count": 13,
   "metadata": {},
   "outputs": [
    {
     "data": {
      "text/plain": [
       "<matplotlib.image.AxesImage at 0x266bb205550>"
      ]
     },
     "execution_count": 13,
     "metadata": {},
     "output_type": "execute_result"
    },
    {
     "data": {
      "image/png": "[encoded data removed]",
      "text/plain": [
       "<Figure size 432x288 with 1 Axes>"
      ]
     },
     "metadata": {
      "needs_background": "light"
     },
     "output_type": "display_data"
    },
    {
     "data": {
      "image/png": "[encoded data removed]",
      "text/plain": [
       "<Figure size 432x288 with 1 Axes>"
      ]
     },
     "metadata": {
      "needs_background": "light"
     },
     "output_type": "display_data"
    }
   ],
   "source": [
    "circle2 = plt.imread('small_circle.png')\n",
    "plt.imshow(circle2)\n",
    "plt.figure()\n",
    "\n",
    "floodfill_scanline(circle2, 0, 0, np.array([0,1,0,1]).astype('float32'), None, 0)\n",
    "plt.imshow(circle2)"
   ]
  },
  {
   "cell_type": "code",
   "execution_count": 20,
   "metadata": {},
   "outputs": [
    {
     "data": {
      "text/plain": [
       "<matplotlib.image.AxesImage at 0x266bcff40d0>"
      ]
     },
     "execution_count": 20,
     "metadata": {},
     "output_type": "execute_result"
    },
    {
     "data": {
      "image/png": "[encoded data removed]",
      "text/plain": [
       "<Figure size 432x288 with 1 Axes>"
      ]
     },
     "metadata": {
      "needs_background": "light"
     },
     "output_type": "display_data"
    },
    {
     "data": {
      "image/png": "[encoded data removed]",
      "text/plain": [
       "<Figure size 432x288 with 1 Axes>"
      ]
     },
     "metadata": {
      "needs_background": "light"
     },
     "output_type": "display_data"
    }
   ],
   "source": [
    "maze = plt.imread('maze.png')\n",
    "plt.imshow(maze)\n",
    "plt.figure()\n",
    "\n",
    "floodfill_scanline(maze, 0, 1, np.array([0,1,0,1]).astype('float32'), None, 0)\n",
    "\n",
    "plt.imshow(maze)"
   ]
  },
  {
   "cell_type": "code",
   "execution_count": 23,
   "metadata": {},
   "outputs": [
    {
     "data": {
      "text/plain": [
       "<matplotlib.image.AxesImage at 0x266bd0f2850>"
      ]
     },
     "execution_count": 23,
     "metadata": {},
     "output_type": "execute_result"
    },
    {
     "data": {
      "image/png": "[encoded data removed]",
      "text/plain": [
       "<Figure size 432x288 with 1 Axes>"
      ]
     },
     "metadata": {
      "needs_background": "light"
     },
     "output_type": "display_data"
    },
    {
     "data": {
      "image/png": "[encoded data removed]",
      "text/plain": [
       "<Figure size 432x288 with 1 Axes>"
      ]
     },
     "metadata": {
      "needs_background": "light"
     },
     "output_type": "display_data"
    }
   ],
   "source": [
    "gradient1 = plt.imread('small_circle_gradient.png')\n",
    "plt.imshow(gradient1)\n",
    "plt.figure()\n",
    "\n",
    "floodfill_scanline(gradient1, 15, 15, np.array([0,1,0,1]).astype('float32'), None, 2)\n",
    "\n",
    "plt.imshow(gradient1)"
   ]
  },
  {
   "cell_type": "code",
   "execution_count": 9,
   "metadata": {},
   "outputs": [
    {
     "data": {
      "text/plain": [
       "<matplotlib.image.AxesImage at 0x266bb0a9a90>"
      ]
     },
     "execution_count": 9,
     "metadata": {},
     "output_type": "execute_result"
    },
    {
     "data": {
      "image/png": "[encoded data removed]",
      "text/plain": [
       "<Figure size 432x288 with 1 Axes>"
      ]
     },
     "metadata": {
      "needs_background": "light"
     },
     "output_type": "display_data"
    },
    {
     "data": {
      "image/png": "[encoded data removed]",
      "text/plain": [
       "<Figure size 432x288 with 1 Axes>"
      ]
     },
     "metadata": {
      "needs_background": "light"
     },
     "output_type": "display_data"
    }
   ],
   "source": [
    "random_shape1 = plt.imread('random_shape.png')\n",
    "plt.imshow(random_shape1)\n",
    "plt.figure()\n",
    "\n",
    "floodfill_scanline(random_shape1, 15, 15, np.array([0,1,0,1]).astype('float32'), None, 1.5)\n",
    "\n",
    "plt.imshow(random_shape1)"
   ]
  }
 ],
 "metadata": {
  "interpreter": {
   "hash": "fc8c1aecd83120a959208c61df6358113f70d89ebdf5b81bd64dbb987d89d7b9"
  },
  "kernelspec": {
   "display_name": "Python 3.8.8 64-bit ('base': conda)",
   "language": "python",
   "name": "python3"
  },
  "language_info": {
   "codemirror_mode": {
    "name": "ipython",
    "version": 3
   },
   "file_extension": ".py",
   "mimetype": "text/x-python",
   "name": "python",
   "nbconvert_exporter": "python",
   "pygments_lexer": "ipython3",
   "version": "3.8.8"
  },
  "orig_nbformat": 4
 },
 "nbformat": 4,
 "nbformat_minor": 2
}
